{
 "cells": [
  {
   "cell_type": "markdown",
   "id": "94a4def0-6ef0-455d-8946-537f9d7d46dc",
   "metadata": {},
   "source": [
    "#### **Creating Virtual Environment in Jupyter NoteBook**\n",
    "1. Open the directory where you want to create your project in your CLI such as:\n",
    "   <br>a. PowerShell or cmd in Windows\n",
    "   <br>b. Terminal or shell in Linux and MAC\n",
    "<br>You can use Jupyter terminal, it will open your default OS terminal.\n",
    "\n",
    "2. Type:\n",
    "<br>python -m venv \\<venv-name\\>\n",
    "4. Activate your virtual environment\n",
    "5. Install Jupyter kernel for the virtual environment:\n",
    "<br>ipython kernel install --user --name=\\<venv-name\\>\n",
    "6. Select the installed the kernel from your Jupyter"
   ]
  },
  {
   "cell_type": "code",
   "execution_count": null,
   "id": "e10474f0-c47a-465c-af3f-7281b62fe449",
   "metadata": {},
   "outputs": [],
   "source": []
  }
 ],
 "metadata": {
  "kernelspec": {
   "display_name": "mlvenv",
   "language": "python",
   "name": "mlvenv"
  },
  "language_info": {
   "codemirror_mode": {
    "name": "ipython",
    "version": 3
   },
   "file_extension": ".py",
   "mimetype": "text/x-python",
   "name": "python",
   "nbconvert_exporter": "python",
   "pygments_lexer": "ipython3",
   "version": "3.10.13"
  }
 },
 "nbformat": 4,
 "nbformat_minor": 5
}
